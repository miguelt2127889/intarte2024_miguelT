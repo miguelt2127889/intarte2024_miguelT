{
  "nbformat": 4,
  "nbformat_minor": 0,
  "metadata": {
    "colab": {
      "provenance": []
    },
    "kernelspec": {
      "name": "python3",
      "display_name": "Python 3"
    },
    "language_info": {
      "name": "python"
    }
  },
  "cells": [
    {
      "cell_type": "code",
      "execution_count": 1,
      "metadata": {
        "colab": {
          "base_uri": "https://localhost:8080/"
        },
        "id": "yBNiAvzTExYS",
        "outputId": "1ca83628-7c46-4a5b-cf5b-aabc3cccb842"
      },
      "outputs": [
        {
          "output_type": "stream",
          "name": "stdout",
          "text": [
            "Downloading data from https://storage.googleapis.com/tensorflow/tf-keras-datasets/mnist.npz\n",
            "11490434/11490434 [==============================] - 0s 0us/step\n",
            "Epoch 1/5\n",
            "1875/1875 [==============================] - 15s 7ms/step - loss: 0.2354 - accuracy: 0.9306\n",
            "Epoch 2/5\n",
            "1875/1875 [==============================] - 11s 6ms/step - loss: 0.1006 - accuracy: 0.9692\n",
            "Epoch 3/5\n",
            "1875/1875 [==============================] - 10s 5ms/step - loss: 0.0697 - accuracy: 0.9783\n",
            "Epoch 4/5\n",
            "1875/1875 [==============================] - 12s 6ms/step - loss: 0.0530 - accuracy: 0.9827\n",
            "Epoch 5/5\n",
            "1875/1875 [==============================] - 10s 5ms/step - loss: 0.0409 - accuracy: 0.9866\n",
            "313/313 [==============================] - 1s 4ms/step - loss: 0.0790 - accuracy: 0.9789\n",
            "Exactitud en el conjunto de prueba: 0.9789000153541565\n",
            "1/1 [==============================] - 0s 96ms/step\n",
            "Predicción: 7\n",
            "Valor Real: 7\n",
            "Predicción: 2\n",
            "Valor Real: 2\n",
            "Predicción: 1\n",
            "Valor Real: 1\n",
            "Predicción: 0\n",
            "Valor Real: 0\n",
            "Predicción: 4\n",
            "Valor Real: 4\n"
          ]
        }
      ],
      "source": [
        "#Actividad 5: Uso de software para búsqueda. N4 006\n",
        "#Integrantes del equipo\n",
        "#Bayron Javier Hernández Sifuentes 2132169\n",
        "#Brisa Marlene Mar Santiago 2127823\n",
        "#Leonardo Rodrigo Salinas Mejia 2035376\n",
        "#Bruce Brandon Leija Cortés 1982141\n",
        "#Miguel Fernando Tovar Chávez 2127889\n",
        "\n",
        "import tensorflow as tf\n",
        "from tensorflow.keras.datasets import mnist\n",
        "\n",
        "# Cargar los datos MNIST utilizando load_data()\n",
        "(x_train, y_train), (x_test, y_test) = mnist.load_data(path=\"mnist.npz\")\n",
        "\n",
        "x_train = x_train / 255.0\n",
        "x_test = x_test / 255.0\n",
        "\n",
        "model = tf.keras.models.Sequential([\n",
        "    tf.keras.layers.Flatten(input_shape=(28, 28)),\n",
        "    tf.keras.layers.Dense(128, activation='relu'),\n",
        "    tf.keras.layers.Dense(64, activation='relu'),\n",
        "    tf.keras.layers.Dense(10, activation='softmax')\n",
        "])\n",
        "\n",
        "model.compile(optimizer='adam',\n",
        "              loss='sparse_categorical_crossentropy',\n",
        "              metrics=['accuracy'])\n",
        "\n",
        "# Entrenamiento del codigo\n",
        "model.fit(x_train, y_train, epochs=5)\n",
        "\n",
        "# Evaluar el modelo con los datos\n",
        "test_loss, test_accuracy = model.evaluate(x_test, y_test)\n",
        "print(\"Exactitud en el conjunto de prueba:\", test_accuracy)\n",
        "\n",
        "# 5 predicciones\n",
        "predictions = model.predict(x_test[:5])\n",
        "for i in range(5):\n",
        "    print(\"Predicción:\", tf.argmax(predictions[i]).numpy())\n",
        "    print(\"Valor Real:\", y_test[i])\n",
        "\n",
        "\n"
      ]
    }
  ]
}