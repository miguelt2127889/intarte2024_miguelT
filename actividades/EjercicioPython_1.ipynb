{
  "nbformat": 4,
  "nbformat_minor": 0,
  "metadata": {
    "colab": {
      "provenance": []
    },
    "kernelspec": {
      "name": "python3",
      "display_name": "Python 3"
    },
    "language_info": {
      "name": "python"
    }
  },
  "cells": [
    {
      "cell_type": "markdown",
      "source": [
        "#Diseño de algoritmos en Python\n",
        "#miguel fernando tovar chavez\n",
        "#2127889\n",
        "#N4\n",
        "#g006"
      ],
      "metadata": {
        "id": "teWnhEVzeOAO"
      }
    },
    {
      "cell_type": "code",
      "source": [],
      "metadata": {
        "id": "gA8DoZp3eMjV"
      },
      "execution_count": null,
      "outputs": []
    },
    {
      "cell_type": "code",
      "source": [
        "def saludar():\n",
        "    nombre = input(\"Por favor, introduce tu nombre: \")\n",
        "\n",
        "    # Verificar si el nombre está en la lista de excepciones\n",
        "    if nombre.lower() in [\"ana\", \"juan\", \"pedro\"]:\n",
        "        print(\"Lo siento, no puedo saludar a Ana, Juan o Pedro.\")\n",
        "    else:\n",
        "        print(\"¡Hola, \" + nombre + \"! Bienvenido.\")\n",
        "\n",
        "saludar()\n"
      ],
      "metadata": {
        "colab": {
          "base_uri": "https://localhost:8080/"
        },
        "id": "qdENdPZNeVEM",
        "outputId": "5fcd4442-2af4-43b7-9861-38c3996aa424"
      },
      "execution_count": 3,
      "outputs": [
        {
          "output_type": "stream",
          "name": "stdout",
          "text": [
            "Por favor, introduce tu nombre: miguel \n",
            "¡Hola, miguel ! Bienvenido.\n"
          ]
        }
      ]
    },
    {
      "cell_type": "code",
      "source": [
        "def invertir_lista():\n",
        "    # Pedir al usuario la cantidad de elementos en la lista\n",
        "    n = int(input(\"Por favor, introduce la cantidad de elementos en la lista: \"))\n",
        "\n",
        "    # Pedir al usuario los elementos de la lista\n",
        "    lista = []\n",
        "    for i in range(n):\n",
        "        elemento = input(\"Introduce el elemento \" + str(i + 1) + \": \")\n",
        "        lista.append(elemento)\n",
        "\n",
        "    # Invertir el orden de la lista\n",
        "    lista_invertida = lista[::-1]\n",
        "\n",
        "    # Mostrar la lista invertida\n",
        "    print(\"La lista invertida es:\", lista_invertida)\n",
        "\n",
        "invertir_lista()\n"
      ],
      "metadata": {
        "colab": {
          "base_uri": "https://localhost:8080/"
        },
        "id": "_-x6u8hmeZzy",
        "outputId": "75ace18a-6ee6-47ff-ab1e-eb3653648a00"
      },
      "execution_count": 4,
      "outputs": [
        {
          "output_type": "stream",
          "name": "stdout",
          "text": [
            "Por favor, introduce la cantidad de elementos en la lista: 7\n",
            "Introduce el elemento 1: kola loka \n",
            "Introduce el elemento 2: coca \n",
            "Introduce el elemento 3: pepsi \n",
            "Introduce el elemento 4: sabritas \n",
            "Introduce el elemento 5: papas \n",
            "Introduce el elemento 6: dulces \n",
            "Introduce el elemento 7: comida \n",
            "La lista invertida es: ['comida ', 'dulces ', 'papas ', 'sabritas ', 'pepsi ', 'coca ', 'kola loka ']\n"
          ]
        }
      ]
    },
    {
      "cell_type": "code",
      "source": [
        "def fibonacci(n):\n",
        "    fib_series = []\n",
        "    a, b = 0, 1\n",
        "    for _ in range(n):\n",
        "        fib_series.append(a)\n",
        "        a, b = b, a + b\n",
        "    return fib_series\n",
        "\n",
        "def main():\n",
        "    try:\n",
        "        cantidad = int(input(\"Por favor, introduce cuántos números de la serie de Fibonacci deseas generar: \"))\n",
        "        if cantidad < 1:\n",
        "            print(\"Por favor, introduce un número válido mayor que cero.\")\n",
        "            return\n",
        "        fib_nums = fibonacci(cantidad)\n",
        "        print(\"Los primeros\", cantidad, \"números de la serie de Fibonacci son:\", fib_nums)\n",
        "    except ValueError:\n",
        "        print(\"Por favor, introduce un número válido.\")\n",
        "\n",
        "main()\n"
      ],
      "metadata": {
        "colab": {
          "base_uri": "https://localhost:8080/"
        },
        "id": "GgVWLRRFekrN",
        "outputId": "6f314c52-7051-4cd3-d762-2d39beca33be"
      },
      "execution_count": 5,
      "outputs": [
        {
          "output_type": "stream",
          "name": "stdout",
          "text": [
            "Por favor, introduce cuántos números de la serie de Fibonacci deseas generar: 8\n",
            "Los primeros 8 números de la serie de Fibonacci son: [0, 1, 1, 2, 3, 5, 8, 13]\n"
          ]
        }
      ]
    },
    {
      "cell_type": "code",
      "source": [
        "import random\n",
        "\n",
        "def juego_adivinar_numero():\n",
        "    # Generar un número aleatorio entre 1 y 100\n",
        "    numero_objetivo = random.randint(1, 100)\n",
        "\n",
        "    print(\"Bienvenido al juego de adivinar el número!\")\n",
        "    intentos = 0\n",
        "\n",
        "    while True:\n",
        "        intento = int(input(\"Intenta adivinar el número (entre 1 y 100): \"))\n",
        "        intentos += 1\n",
        "\n",
        "        if intento < numero_objetivo:\n",
        "            print(\"El número es mayor.\")\n",
        "        elif intento > numero_objetivo:\n",
        "            print(\"El número es menor.\")\n",
        "        else:\n",
        "            print(\"¡Felicidades! Adivinaste el número en\", intentos, \"intentos.\")\n",
        "            break\n",
        "\n",
        "juego_adivinar_numero()\n"
      ],
      "metadata": {
        "colab": {
          "base_uri": "https://localhost:8080/"
        },
        "id": "MdzbC91Xep4f",
        "outputId": "981ed126-8579-4329-b422-ce57aa1e7bfa"
      },
      "execution_count": 6,
      "outputs": [
        {
          "output_type": "stream",
          "name": "stdout",
          "text": [
            "Bienvenido al juego de adivinar el número!\n",
            "Intenta adivinar el número (entre 1 y 100): 45\n",
            "El número es mayor.\n",
            "Intenta adivinar el número (entre 1 y 100): 59\n",
            "El número es mayor.\n",
            "Intenta adivinar el número (entre 1 y 100): 60\n",
            "El número es mayor.\n",
            "Intenta adivinar el número (entre 1 y 100): 90\n",
            "El número es menor.\n",
            "Intenta adivinar el número (entre 1 y 100): 75\n",
            "El número es mayor.\n",
            "Intenta adivinar el número (entre 1 y 100): 80\n",
            "El número es menor.\n",
            "Intenta adivinar el número (entre 1 y 100): 78\n",
            "El número es mayor.\n",
            "Intenta adivinar el número (entre 1 y 100): 79\n",
            "¡Felicidades! Adivinaste el número en 8 intentos.\n"
          ]
        }
      ]
    },
    {
      "cell_type": "code",
      "source": [
        "def es_primo(numero):\n",
        "    if numero <= 1:\n",
        "        return False\n",
        "    elif numero <= 3:\n",
        "        return True\n",
        "    elif numero % 2 == 0 or numero % 3 == 0:\n",
        "        return False\n",
        "    i = 5\n",
        "    while i * i <= numero:\n",
        "        if numero % i == 0 or numero % (i + 2) == 0:\n",
        "            return False\n",
        "        i += 6\n",
        "    return True\n",
        "\n",
        "def numeros_primos_en_rango(inicio, fin):\n",
        "    print(\"Números primos en el rango de\", inicio, \"a\", fin, \":\")\n",
        "    for numero in range(inicio, fin + 1):\n",
        "        if es_primo(numero):\n",
        "            print(numero)\n",
        "\n",
        "def main():\n",
        "    try:\n",
        "        inicio = int(input(\"Introduce el inicio del rango: \"))\n",
        "        fin = int(input(\"Introduce el fin del rango: \"))\n",
        "        if inicio < 0 or fin < 0:\n",
        "            print(\"Por favor, introduce números positivos.\")\n",
        "        elif inicio > fin:\n",
        "            print(\"El inicio del rango debe ser menor o igual que el fin del rango.\")\n",
        "        else:\n",
        "            numeros_primos_en_rango(inicio, fin)\n",
        "    except ValueError:\n",
        "        print(\"Por favor, introduce números enteros válidos.\")\n",
        "\n",
        "main()\n"
      ],
      "metadata": {
        "colab": {
          "base_uri": "https://localhost:8080/"
        },
        "id": "zyJc1U3Te0NH",
        "outputId": "da41a90d-f3e4-4650-cc87-488cfb96e526"
      },
      "execution_count": 7,
      "outputs": [
        {
          "output_type": "stream",
          "name": "stdout",
          "text": [
            "Introduce el inicio del rango: 3\n",
            "Introduce el fin del rango: 30\n",
            "Números primos en el rango de 3 a 30 :\n",
            "3\n",
            "5\n",
            "7\n",
            "11\n",
            "13\n",
            "17\n",
            "19\n",
            "23\n",
            "29\n"
          ]
        }
      ]
    },
    {
      "cell_type": "code",
      "source": [
        "def suma(num1, num2):\n",
        "    return num1 + num2\n",
        "\n",
        "def resta(num1, num2):\n",
        "    return num1 - num2\n",
        "\n",
        "def multiplicacion(num1, num2):\n",
        "    return num1 * num2\n",
        "\n",
        "def division(num1, num2):\n",
        "    if num2 == 0:\n",
        "        return \"Error: no se puede dividir entre cero\"\n",
        "    else:\n",
        "        return num1 / num2\n",
        "\n",
        "def main():\n",
        "    try:\n",
        "        num1 = float(input(\"Introduce el primer número: \"))\n",
        "        num2 = float(input(\"Introduce el segundo número: \"))\n",
        "\n",
        "        print(\"1. Suma\")\n",
        "        print(\"2. Resta\")\n",
        "        print(\"3. Multiplicación\")\n",
        "        print(\"4. División\")\n",
        "\n",
        "        opcion = int(input(\"Selecciona una operación (1/2/3/4): \"))\n",
        "\n",
        "        if opcion == 1:\n",
        "            print(\"La suma de\", num1, \"y\", num2, \"es:\", suma(num1, num2))\n",
        "        elif opcion == 2:\n",
        "            print(\"La resta de\", num1, \"y\", num2, \"es:\", resta(num1, num2))\n",
        "        elif opcion == 3:\n",
        "            print(\"La multiplicación de\", num1, \"y\", num2, \"es:\", multiplicacion(num1, num2))\n",
        "        elif opcion == 4:\n",
        "            print(\"La división de\", num1, \"entre\", num2, \"es:\", division(num1, num2))\n",
        "        else:\n",
        "            print(\"Opción inválida\")\n",
        "    except ValueError:\n",
        "        print(\"Por favor, introduce números válidos.\")\n",
        "\n",
        "main()\n"
      ],
      "metadata": {
        "colab": {
          "base_uri": "https://localhost:8080/"
        },
        "id": "27cDknGhe5wI",
        "outputId": "89e891b9-6322-4b8b-edff-4de7d09d4301"
      },
      "execution_count": 8,
      "outputs": [
        {
          "output_type": "stream",
          "name": "stdout",
          "text": [
            "Introduce el primer número: 145\n",
            "Introduce el segundo número: 546\n",
            "1. Suma\n",
            "2. Resta\n",
            "3. Multiplicación\n",
            "4. División\n",
            "Selecciona una operación (1/2/3/4): 3\n",
            "La multiplicación de 145.0 y 546.0 es: 79170.0\n"
          ]
        }
      ]
    }
  ]
}