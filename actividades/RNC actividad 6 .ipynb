{
  "nbformat": 4,
  "nbformat_minor": 0,
  "metadata": {
    "colab": {
      "provenance": []
    },
    "kernelspec": {
      "name": "python3",
      "display_name": "Python 3"
    },
    "language_info": {
      "name": "python"
    }
  },
  "cells": [
    {
      "cell_type": "code",
      "execution_count": null,
      "metadata": {
        "colab": {
          "base_uri": "https://localhost:8080/"
        },
        "id": "JZZgy3uySZ15",
        "outputId": "61b3c38b-0c42-446d-ff8e-6b8e252559d7"
      },
      "outputs": [
        {
          "output_type": "stream",
          "name": "stdout",
          "text": [
            "Epoch 1/5\n",
            "1875/1875 [==============================] - 59s 31ms/step - loss: 0.1267 - accuracy: 0.9614 - val_loss: 0.0501 - val_accuracy: 0.9828\n",
            "Epoch 2/5\n",
            "1875/1875 [==============================] - 53s 29ms/step - loss: 0.0434 - accuracy: 0.9868 - val_loss: 0.0328 - val_accuracy: 0.9887\n",
            "Epoch 3/5\n",
            "1875/1875 [==============================] - 52s 28ms/step - loss: 0.0286 - accuracy: 0.9906 - val_loss: 0.0277 - val_accuracy: 0.9904\n",
            "Epoch 4/5\n",
            "1875/1875 [==============================] - 54s 29ms/step - loss: 0.0209 - accuracy: 0.9927 - val_loss: 0.0275 - val_accuracy: 0.9916\n",
            "Epoch 5/5\n",
            "1875/1875 [==============================] - 57s 30ms/step - loss: 0.0156 - accuracy: 0.9949 - val_loss: 0.0342 - val_accuracy: 0.9890\n",
            "313/313 [==============================] - 3s 10ms/step - loss: 0.0342 - accuracy: 0.9890\n",
            "Exactitud en el conjunto de prueba: 0.9890000224113464\n",
            "1/1 [==============================] - 0s 69ms/step\n",
            "Predicción: 7\n",
            "Valor Real: 7\n",
            "Predicción: 2\n",
            "Valor Real: 2\n",
            "Predicción: 1\n",
            "Valor Real: 1\n",
            "Predicción: 0\n",
            "Valor Real: 0\n",
            "Predicción: 4\n",
            "Valor Real: 4\n"
          ]
        }
      ],
      "source": [
        "#Actividad 6: Redes neuronales. N4 006\n",
        "#Integrantes del equipo\n",
        "#Bayron Javier Hernández Sifuentes 2132169\n",
        "#Brisa Marlene Mar Santiago 2127823\n",
        "#Leonardo Rodrigo Salinas Mejia 2035376\n",
        "#Bruce Brandon Leija Cortés 1982141\n",
        "#Miguel Fernando Tovar Chávez 2127889\n",
        "\n",
        "import tensorflow as tf\n",
        "from tensorflow.keras.datasets import mnist\n",
        "\n",
        "\n",
        "# Cargar el conjunto de datos MNIST utilizando keras.datasets.mnist.load_data(path=\"mnist.npz\")\n",
        "(x_train, y_train), (x_test, y_test) = tf.keras.datasets.mnist.load_data(path=\"mnist.npz\")\n",
        "\n",
        "# Verificar las formas de los datos nuevamente\n",
        "assert x_train.shape == (60000, 28, 28)\n",
        "assert x_test.shape == (10000, 28, 28)\n",
        "assert y_train.shape == (60000,)\n",
        "assert y_test.shape == (10000,)\n",
        "\n",
        "# Normalizar los datos\n",
        "x_train = x_train / 255.0\n",
        "x_test = x_test / 255.0\n",
        "\n",
        "# Definir la arquitectura de la red neuronal convolucional\n",
        "model = tf.keras.models.Sequential([\n",
        "    tf.keras.layers.Conv2D(32, (3, 3), activation='relu', input_shape=(28, 28, 1)),\n",
        "    tf.keras.layers.MaxPooling2D((2, 2)),\n",
        "    tf.keras.layers.Conv2D(64, (3, 3), activation='relu'),\n",
        "    tf.keras.layers.MaxPooling2D((2, 2)),\n",
        "    tf.keras.layers.Flatten(),\n",
        "    tf.keras.layers.Dense(128, activation='relu'),\n",
        "    tf.keras.layers.Dense(10, activation='softmax')\n",
        "])\n",
        "\n",
        "# Compilar el modelo\n",
        "model.compile(optimizer='adam',\n",
        "              loss='sparse_categorical_crossentropy',\n",
        "              metrics=['accuracy'])\n",
        "\n",
        "# Entrenar el modelo\n",
        "history = model.fit(x_train.reshape(-1, 28, 28, 1), y_train, epochs=5, validation_data=(x_test.reshape(-1, 28, 28, 1), y_test))\n",
        "\n",
        "# Evaluar el modelo con los datos de prueba\n",
        "test_loss, test_accuracy = model.evaluate(x_test.reshape(-1, 28, 28, 1), y_test)\n",
        "print(\"Exactitud en el conjunto de prueba:\", test_accuracy)\n",
        "\n",
        "# Realizar 5 predicciones con los datos de prueba\n",
        "predictions = model.predict(x_test[:5].reshape(-1, 28, 28, 1))\n",
        "for i in range(5):\n",
        "    print(\"Predicción:\", tf.argmax(predictions[i]).numpy())\n",
        "    print(\"Valor Real:\", y_test[i])\n"
      ]
    }
  ]
}